{
 "cells": [
  {
   "cell_type": "code",
   "execution_count": null,
   "id": "41c5ea32-b77f-4f1e-9a19-7852a89f8abe",
   "metadata": {},
   "outputs": [],
   "source": []
  }
 ],
 "metadata": {
  "kernelspec": {
   "display_name": "",
   "name": ""
  },
  "language_info": {
   "name": ""
  }
 },
 "nbformat": 4,
 "nbformat_minor": 5
}
